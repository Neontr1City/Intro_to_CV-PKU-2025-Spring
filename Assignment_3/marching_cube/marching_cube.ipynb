{
 "cells": [
  {
   "cell_type": "code",
   "execution_count": 7,
   "metadata": {},
   "outputs": [],
   "source": [
    "import numpy as np\n",
    "from lookup_table import CaseNum2EdgeOffset, getCaseNum\n",
    "import trimesh\n",
    "import os\n",
    "import time"
   ]
  },
  {
   "cell_type": "code",
   "execution_count": 8,
   "metadata": {},
   "outputs": [],
   "source": [
    "def marching_cube(thres,cells):\n",
    "    # vertices use dictionary to avoid duplicate axes\n",
    "    vertex_array = {}\n",
    "    face_array = []\n",
    "    t1 = time.time()\n",
    "    # -------------------TODO------------------ \n",
    "    # compute vertices and faces\n",
    "    # vertices: [N, 3]\n",
    "    # faces: [M, 3], e.g. np.array([[0,1,2]]) means a triangle composed of vertices[0], vertices[1] and vertices[2]\n",
    "    # for-loop is allowed to reduce difficulty\n",
    "    # -------------------TODO------------------ \n",
    "    nx, ny, nz = cells.shape\n",
    "    for x in range(nx - 1):\n",
    "        for y in range(ny - 1):\n",
    "            for z in range(nz - 1):\n",
    "                case_num = getCaseNum(x, y, z, thres, cells)\n",
    "                idx = []\n",
    "                for case in case_num:\n",
    "                    if case == -1:\n",
    "                        break\n",
    "                    edge_offset = CaseNum2EdgeOffset[case]\n",
    "                    x1 = x + edge_offset[0]\n",
    "                    y1 = y + edge_offset[1]\n",
    "                    z1 = z + edge_offset[2]\n",
    "                    x2 = x + edge_offset[3]\n",
    "                    y2 = y + edge_offset[4]\n",
    "                    z2 = z + edge_offset[5]\n",
    "                    vertex1 = np.array([x1, y1, z1])\n",
    "                    vertex2 = np.array([x2, y2, z2])\n",
    "                    cell1 = cells[x1, y1, z1]\n",
    "                    cell2 = cells[x2, y2, z2]\n",
    "                    \n",
    "                    # avoid division by zero\n",
    "                    if abs(cell2 - cell1) < 1e-6:\n",
    "                        t = 0.5\n",
    "                    else:\n",
    "                        t = (thres - cell1) / (cell2 - cell1)\n",
    "                    ip = vertex1 + t * (vertex2 - vertex1)\n",
    "                    key = tuple(np.round(ip, 5))\n",
    "                    if key not in vertex_array:\n",
    "                        vertex_array[key] = len(vertex_array)\n",
    "                    idx.append(vertex_array[key])\n",
    "                    \n",
    "                for i in range(0, len(idx), 3):\n",
    "                    if i + 2 < len(idx):\n",
    "                        face_array.append([idx[i], idx[i+1], idx[i+2]])\n",
    "                    \n",
    "                \n",
    "    t2 = time.time()\n",
    "    print(\"\\nTime taken by algorithm\\n\"+'-'*40+\"\\n{} s\".format(t2-t1))\n",
    "    vertices = [None] * len(vertex_array)\n",
    "    for key, index in vertex_array.items():\n",
    "        vertices[index] = np.array(key)\n",
    "    \n",
    "    return np.array(vertices), np.array(face_array)"
   ]
  },
  {
   "cell_type": "code",
   "execution_count": 9,
   "metadata": {},
   "outputs": [
    {
     "name": "stdout",
     "output_type": "stream",
     "text": [
      "\n",
      "Time taken by algorithm\n",
      "----------------------------------------\n",
      "0.8596706390380859 s\n",
      "\n",
      "Time taken by algorithm\n",
      "----------------------------------------\n",
      "0.9348781108856201 s\n"
     ]
    }
   ],
   "source": [
    "# reconstruct these two animals\n",
    "shape_name_lst = ['spot', 'bob']\n",
    "for shape_name in shape_name_lst:\n",
    "    data = np.load(os.path.join('data', shape_name + '_cell.npy'))\n",
    "    verts, faces = marching_cube(0, data)\n",
    "    mesh = trimesh.Trimesh(vertices=verts, faces=faces)\n",
    "    mesh_txt = trimesh.exchange.obj.export_obj(mesh)\n",
    "    with open(os.path.join('../results', shape_name + '.obj'),\"w\") as fp:\n",
    "        fp.write(mesh_txt)"
   ]
  }
 ],
 "metadata": {
  "kernelspec": {
   "display_name": "Python 3",
   "language": "python",
   "name": "python3"
  },
  "language_info": {
   "codemirror_mode": {
    "name": "ipython",
    "version": 3
   },
   "file_extension": ".py",
   "mimetype": "text/x-python",
   "name": "python",
   "nbconvert_exporter": "python",
   "pygments_lexer": "ipython3",
   "version": "3.13.2"
  },
  "orig_nbformat": 4
 },
 "nbformat": 4,
 "nbformat_minor": 2
}
